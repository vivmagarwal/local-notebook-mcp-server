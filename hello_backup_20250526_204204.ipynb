{
  "cells": [
    {
      "cell_type": "markdown",
      "metadata": {},
      "source": "# Hello Jupyter Notebook\n\nThis is a sample notebook for testing the Local Notebook MCP Server."
    },
    {
      "cell_type": "code",
      "metadata": {},
      "source": "print(\"Hello, World!\")\nimport numpy as np\nimport pandas as pd\n\n# Sample data\ndata = [1, 2, 3, 4, 5]\nprint(f\"Sum: {sum(data)}\")",
      "outputs": [],
      "execution_count": null
    },
    {
      "cell_type": "code",
      "metadata": {},
      "source": "# Create a simple plot\nimport matplotlib.pyplot as plt\n\nx = [1, 2, 3, 4, 5]\ny = [2, 4, 6, 8, 10]\n\nplt.plot(x, y)\nplt.title(\"Sample Plot\")\nplt.show()",
      "outputs": [],
      "execution_count": null
    },
    {
      "cell_type": "code",
      "metadata": {},
      "source": "# Modified test cell\nprint('Modified!')",
      "outputs": [],
      "execution_count": null
    }
  ],
  "metadata": {
    "kernelspec": {
      "display_name": "Python 3",
      "language": "python",
      "name": "python3"
    },
    "language_info": {
      "codemirror_mode": {
        "name": "ipython",
        "version": 3
      },
      "file_extension": ".py",
      "mimetype": "text/x-python",
      "name": "python",
      "nbconvert_exporter": "python",
      "pygments_lexer": "ipython3",
      "version": "3.8.5"
    }
  },
  "nbformat": 4,
  "nbformat_minor": 4
}
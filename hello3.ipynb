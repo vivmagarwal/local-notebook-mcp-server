{
  "cells": [
    {
      "cell_type": "markdown",
      "metadata": {},
      "source": "# Hello3 Notebook\n\nThis is a new notebook created using the local-notebook-mcp-server."
    },
    {
      "cell_type": "code",
      "metadata": {},
      "source": "import datetime\nprint(\"Hello from hello3 notebook!\")\nprint(f\"Created at: {datetime.datetime.now()}\")\n\n# Simple calculation\nfor i in range(3):\n    print(f\"Hello {i+1}\")",
      "outputs": [],
      "execution_count": null
    },
    {
      "cell_type": "markdown",
      "metadata": {},
      "source": "# Hello3 Notebook"
    },
    {
      "cell_type": "code",
      "metadata": {},
      "source": "# Your code here",
      "outputs": [],
      "execution_count": null
    }
  ],
  "metadata": {
    "kernelspec": {
      "display_name": "Python 3",
      "language": "python",
      "name": "python3"
    },
    "language_info": {
      "codemirror_mode": {
        "name": "ipython",
        "version": 3
      },
      "file_extension": ".py",
      "mimetype": "text/x-python",
      "name": "python",
      "nbconvert_exporter": "python",
      "pygments_lexer": "ipython3",
      "version": "3.8.5"
    },
    "title": "Hello3 Notebook"
  },
  "nbformat": 4,
  "nbformat_minor": 5
}
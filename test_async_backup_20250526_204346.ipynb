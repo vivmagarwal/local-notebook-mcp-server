{
  "cells": [
    {
      "cell_type": "code",
      "metadata": {},
      "source": "print('Hello from async test')",
      "outputs": [],
      "execution_count": null
    },
    {
      "cell_type": "code",
      "metadata": {},
      "source": "import time\ntime.sleep(0.1)\nprint('Delayed execution')",
      "outputs": [],
      "execution_count": null
    },
    {
      "cell_type": "code",
      "metadata": {},
      "source": "x = 42\nprint(f'The answer is {x}')",
      "outputs": [],
      "execution_count": null
    }
  ],
  "metadata": {
    "kernelspec": {
      "display_name": "Python 3",
      "language": "python",
      "name": "python3"
    },
    "language_info": {
      "codemirror_mode": {
        "name": "ipython",
        "version": 3
      },
      "file_extension": ".py",
      "mimetype": "text/x-python",
      "name": "python",
      "nbconvert_exporter": "python",
      "pygments_lexer": "ipython3",
      "version": "3.8.5"
    },
    "title": "Test Notebook"
  },
  "nbformat": 4,
  "nbformat_minor": 5
}